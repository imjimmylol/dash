{
 "cells": [
  {
   "cell_type": "markdown",
   "metadata": {},
   "source": [
    "# 1. Import pacakage"
   ]
  },
  {
   "cell_type": "code",
   "execution_count": 1,
   "metadata": {},
   "outputs": [],
   "source": [
    "# conda install -n sim_search ipykernel --update-deps --force-reinstall\n",
    "import pandas as pd\n",
    "import numpy as np\n",
    "\n",
    "from utils.search import return_res\n",
    "from utils.data_process import input_process, res_process\n",
    "from utils.search import do_search\n",
    "from utils.plot import plotly_plot\n",
    "import matplotlib.pyplot as plt\n",
    "import talib\n",
    "from plotly.subplots import make_subplots\n",
    "import plotly.graph_objects as go\n"
   ]
  },
  {
   "cell_type": "markdown",
   "metadata": {},
   "source": [
    "# 2. read data"
   ]
  },
  {
   "cell_type": "code",
   "execution_count": 6,
   "metadata": {},
   "outputs": [
    {
     "data": {
      "text/html": [
       "<div>\n",
       "<style scoped>\n",
       "    .dataframe tbody tr th:only-of-type {\n",
       "        vertical-align: middle;\n",
       "    }\n",
       "\n",
       "    .dataframe tbody tr th {\n",
       "        vertical-align: top;\n",
       "    }\n",
       "\n",
       "    .dataframe thead th {\n",
       "        text-align: right;\n",
       "    }\n",
       "</style>\n",
       "<table border=\"1\" class=\"dataframe\">\n",
       "  <thead>\n",
       "    <tr style=\"text-align: right;\">\n",
       "      <th></th>\n",
       "      <th>Date</th>\n",
       "      <th>Open</th>\n",
       "      <th>High</th>\n",
       "      <th>Low</th>\n",
       "      <th>Close</th>\n",
       "      <th>Volume</th>\n",
       "      <th>Dividends</th>\n",
       "      <th>Stock Splits</th>\n",
       "    </tr>\n",
       "  </thead>\n",
       "  <tbody>\n",
       "    <tr>\n",
       "      <th>0</th>\n",
       "      <td>2008-01-02</td>\n",
       "      <td>36.155183</td>\n",
       "      <td>36.155183</td>\n",
       "      <td>35.105517</td>\n",
       "      <td>35.280460</td>\n",
       "      <td>39300705</td>\n",
       "      <td>0.0</td>\n",
       "      <td>0.0</td>\n",
       "    </tr>\n",
       "    <tr>\n",
       "      <th>1</th>\n",
       "      <td>2008-01-03</td>\n",
       "      <td>34.930569</td>\n",
       "      <td>34.988883</td>\n",
       "      <td>34.638996</td>\n",
       "      <td>34.638996</td>\n",
       "      <td>35123067</td>\n",
       "      <td>0.0</td>\n",
       "      <td>0.0</td>\n",
       "    </tr>\n",
       "    <tr>\n",
       "      <th>2</th>\n",
       "      <td>2008-01-04</td>\n",
       "      <td>34.580682</td>\n",
       "      <td>35.222144</td>\n",
       "      <td>34.114164</td>\n",
       "      <td>34.988884</td>\n",
       "      <td>48851900</td>\n",
       "      <td>0.0</td>\n",
       "      <td>0.0</td>\n",
       "    </tr>\n",
       "    <tr>\n",
       "      <th>3</th>\n",
       "      <td>2008-01-07</td>\n",
       "      <td>33.239444</td>\n",
       "      <td>33.822592</td>\n",
       "      <td>32.539665</td>\n",
       "      <td>32.539665</td>\n",
       "      <td>104088436</td>\n",
       "      <td>0.0</td>\n",
       "      <td>0.0</td>\n",
       "    </tr>\n",
       "    <tr>\n",
       "      <th>4</th>\n",
       "      <td>2008-01-08</td>\n",
       "      <td>32.539672</td>\n",
       "      <td>33.006191</td>\n",
       "      <td>32.364728</td>\n",
       "      <td>32.656303</td>\n",
       "      <td>47704464</td>\n",
       "      <td>0.0</td>\n",
       "      <td>0.0</td>\n",
       "    </tr>\n",
       "  </tbody>\n",
       "</table>\n",
       "</div>"
      ],
      "text/plain": [
       "         Date       Open       High        Low      Close     Volume  \\\n",
       "0  2008-01-02  36.155183  36.155183  35.105517  35.280460   39300705   \n",
       "1  2008-01-03  34.930569  34.988883  34.638996  34.638996   35123067   \n",
       "2  2008-01-04  34.580682  35.222144  34.114164  34.988884   48851900   \n",
       "3  2008-01-07  33.239444  33.822592  32.539665  32.539665  104088436   \n",
       "4  2008-01-08  32.539672  33.006191  32.364728  32.656303   47704464   \n",
       "\n",
       "   Dividends  Stock Splits  \n",
       "0        0.0           0.0  \n",
       "1        0.0           0.0  \n",
       "2        0.0           0.0  \n",
       "3        0.0           0.0  \n",
       "4        0.0           0.0  "
      ]
     },
     "execution_count": 6,
     "metadata": {},
     "output_type": "execute_result"
    }
   ],
   "source": [
    "df = pd.read_csv('./data/2330TW.csv')\n",
    "df.head()\n",
    "# df.rename({'Unnamed: 0': 'Time'}, axis=1, inplace=True)"
   ]
  },
  {
   "cell_type": "markdown",
   "metadata": {},
   "source": [
    "# 3. Input data proccess"
   ]
  },
  {
   "cell_type": "code",
   "execution_count": 7,
   "metadata": {},
   "outputs": [],
   "source": [
    "s = 2497 # import your time here\n",
    "e = 2518"
   ]
  },
  {
   "cell_type": "code",
   "execution_count": 8,
   "metadata": {},
   "outputs": [],
   "source": [
    "input_proccess = input_process.full_wav_scalar(full_wav=np.array(df['Close']), start_p=s, end_p=e, scalar_mehod=\"min_max\")\n",
    "full_wav_std = input_proccess.apply_wav()\n",
    "baseline_wav_std = full_wav_std[s:e]"
   ]
  },
  {
   "cell_type": "markdown",
   "metadata": {},
   "source": [
    "# 4. Do algo search"
   ]
  },
  {
   "cell_type": "code",
   "execution_count": null,
   "metadata": {},
   "outputs": [],
   "source": [
    "algo_li = [\"shape_d\", \"mink_d\", \"corr_d\", \"dtw_d\"] # 放定義好得相似度\n",
    "\n",
    "res_d = {}\n",
    "\n",
    "for alg in algo_li:\n",
    "    search = do_search.search(baseline_wav=baseline_wav_std, full_wav=full_wav_std)\n",
    "    res_d['{}'.format(alg)] = search.run_search_test(algo_option=alg)"
   ]
  },
  {
   "cell_type": "markdown",
   "metadata": {},
   "source": [
    "# 5. Dictionay result intersection "
   ]
  },
  {
   "cell_type": "code",
   "execution_count": null,
   "metadata": {},
   "outputs": [],
   "source": [
    "# sort dict \n",
    "mink_d_sorted = dict(sorted(res_d['mink_d'].items(), key=lambda item: item[1])) # 小到大\n",
    "corr_d_sorted = dict(sorted(res_d['corr_d'].items(), key=lambda item: item[1], reverse=True)) # 大到小\n",
    "dtw_d_sorted = dict(sorted(res_d['dtw_d'].items(), key=lambda item: item[1]))\n",
    "shape_d_sorted = dict(sorted(res_d['shape_d'].items(), key=lambda item: item[1]))"
   ]
  },
  {
   "cell_type": "markdown",
   "metadata": {},
   "source": [
    "### 5.1 單一結果"
   ]
  },
  {
   "cell_type": "code",
   "execution_count": 10,
   "metadata": {},
   "outputs": [
    {
     "name": "stderr",
     "output_type": "stream",
     "text": [
      "100%|██████████| 3570/3570 [00:00<00:00, 5990.04it/s]"
     ]
    },
    {
     "name": "stdout",
     "output_type": "stream",
     "text": [
      "['1155:1176']\n"
     ]
    },
    {
     "name": "stderr",
     "output_type": "stream",
     "text": [
      "\n"
     ]
    }
   ],
   "source": [
    "x = return_res.get_sim_res(df, s, e, \"corr_d\")\n",
    "print(x)"
   ]
  },
  {
   "cell_type": "code",
   "execution_count": 47,
   "metadata": {},
   "outputs": [
    {
     "name": "stdout",
     "output_type": "stream",
     "text": [
      "['1155:1176', '522:543', '1131:1152', '813:834', '2877:2898', '2730:2751', '2289:2310', '2658:2679', '1188:1209', '3378:3399', '2618:2639', '3042:3063', '3478:3499']\n"
     ]
    }
   ],
   "source": [
    "clear_res_engine = res_process.clean_duplicate_li(list(corr_d_sorted.keys())[0:20])\n",
    "print(clear_res_engine.ret_uq_range())\n"
   ]
  },
  {
   "cell_type": "code",
   "execution_count": 48,
   "metadata": {},
   "outputs": [
    {
     "name": "stdout",
     "output_type": "stream",
     "text": [
      "['1131:1152', '522:543', '2289:2310', '1188:1209', '2877:2898', '813:834', '3194:3215', '1301:1322', '1512:1533', '2898:2919', '3478:3499', '2658:2679', '2730:2751', '3042:3063', '223:244']\n"
     ]
    }
   ],
   "source": [
    "clear_res_engine = res_process.clean_duplicate_li(list(mink_d_sorted.keys())[0:20])\n",
    "print(clear_res_engine.ret_uq_range())"
   ]
  },
  {
   "cell_type": "code",
   "execution_count": 49,
   "metadata": {},
   "outputs": [
    {
     "name": "stdout",
     "output_type": "stream",
     "text": [
      "['2730:2751', '2898:2919', '483:504', '2813:2834', '2451:2472', '1680:1701', '2372:2393', '1130:1151', '1187:1208', '355:376', '3041:3062', '2018:2039', '3480:3501', '1741:1762', '223:244', '2057:2078', '1303:1324', '523:544', '1095:1116', '1512:1533', '3194:3215', '714:735']\n"
     ]
    }
   ],
   "source": [
    "clear_res_engine = res_process.clean_duplicate_li(list(dtw_d_sorted.keys())[0:50])\n",
    "print(clear_res_engine.ret_uq_range())"
   ]
  },
  {
   "cell_type": "code",
   "execution_count": 50,
   "metadata": {},
   "outputs": [
    {
     "name": "stdout",
     "output_type": "stream",
     "text": [
      "['2239:2260', '1987:2008', '894:915', '763:784', '3473:3494', '622:643', '1892:1913', '1516:1537']\n"
     ]
    }
   ],
   "source": [
    "clear_res_engine = res_process.clean_duplicate_li(list(shape_d_sorted.keys())[0:10])\n",
    "print(clear_res_engine.ret_uq_range())"
   ]
  },
  {
   "cell_type": "markdown",
   "metadata": {},
   "source": [
    "### 5.2 多結果合併"
   ]
  },
  {
   "cell_type": "code",
   "execution_count": 37,
   "metadata": {},
   "outputs": [
    {
     "data": {
      "text/plain": [
       "{'2329:2399', '2331:2401', '2820:2890', '3100:3170'}"
      ]
     },
     "execution_count": 37,
     "metadata": {},
     "output_type": "execute_result"
    }
   ],
   "source": [
    "# get intersection\n",
    "# priority dict放前面\n",
    "res_process.res_d_set(d1 = corr_d_sorted, d2 = mink_d_sorted, rank_d1=5, rank_d2=5)"
   ]
  },
  {
   "cell_type": "code",
   "execution_count": 38,
   "metadata": {},
   "outputs": [
    {
     "name": "stdout",
     "output_type": "stream",
     "text": [
      "2330 2400\n"
     ]
    }
   ],
   "source": [
    "print(s,e)"
   ]
  },
  {
   "cell_type": "markdown",
   "metadata": {},
   "source": [
    "# Result Visualization"
   ]
  },
  {
   "cell_type": "code",
   "execution_count": 7,
   "metadata": {},
   "outputs": [],
   "source": [
    "# s,e = 2330, 2380\n",
    "f1 = plotly_plot.plot(df, s = s, e= e)\n",
    "# print(s,e)"
   ]
  },
  {
   "cell_type": "code",
   "execution_count": 4,
   "metadata": {},
   "outputs": [],
   "source": [
    "from dash import dcc"
   ]
  },
  {
   "cell_type": "code",
   "execution_count": 11,
   "metadata": {},
   "outputs": [],
   "source": [
    "# 2138:2193 # 103:158 # 320:375 # 4422:4472 # 1212:1262 # 1150:1200 # 4940:4990 # 1100:1123 # 4598:4621 #2604:2627 #460:483 #4729:4752 # 3931:3954\n",
    "f2 = plotly_plot.plot(df, s = 1155, e= 1176) #3547:3570 #19 42 # 38 61 #1551:1574 # 1942:1992 #3324:3374 # 1859:1909 # 1057:1107 # 1199:1269 # 1131:1152' # 2730:2751"
   ]
  },
  {
   "cell_type": "code",
   "execution_count": 12,
   "metadata": {},
   "outputs": [],
   "source": [
    "def figures_to_html(figs, filename=\"dashboard.html\"):   \n",
    "    with open(filename, 'w') as dashboard:\n",
    "        dashboard.write(\"<html><head></head><body>\" + \"\\n\")\n",
    "        for fig in figs:\n",
    "            inner_html = fig.to_html().split('<body>')[1].split('</body>')[0]\n",
    "            dashboard.write(inner_html)\n",
    "        dashboard.write(\"</body></html>\" + \"\\n\")"
   ]
  },
  {
   "cell_type": "code",
   "execution_count": 13,
   "metadata": {},
   "outputs": [],
   "source": [
    "figures_to_html([f1,f2])"
   ]
  }
 ],
 "metadata": {
  "kernelspec": {
   "display_name": "Python 3.7.0 ('sim_search')",
   "language": "python",
   "name": "python3"
  },
  "language_info": {
   "codemirror_mode": {
    "name": "ipython",
    "version": 3
   },
   "file_extension": ".py",
   "mimetype": "text/x-python",
   "name": "python",
   "nbconvert_exporter": "python",
   "pygments_lexer": "ipython3",
   "version": "3.7.13"
  },
  "orig_nbformat": 4,
  "vscode": {
   "interpreter": {
    "hash": "8819b6c27531a7316d532b8ee63941b772fd3734da373ab5a64ffc763d62b121"
   }
  }
 },
 "nbformat": 4,
 "nbformat_minor": 2
}
