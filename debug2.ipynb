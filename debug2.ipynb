{
 "cells": [
  {
   "cell_type": "code",
   "execution_count": 1,
   "metadata": {},
   "outputs": [],
   "source": [
    "import pandas as pd\n",
    "import numpy as np\n",
    "from utils.data_process import input_process, res_process\n",
    "from utils.search import return_res\n",
    "from utils.plot import plotly_plot\n",
    "from datetime import date\n",
    "from os import walk\n",
    "import re"
   ]
  },
  {
   "cell_type": "code",
   "execution_count": null,
   "metadata": {},
   "outputs": [],
   "source": [
    "Ticker = '2330.TW'\n",
    "start_date = \"2021-08-07\"\n",
    "end_date = \"2021-08-31\"\n",
    "df = pd.read_csv(r\"./data/{}.csv\".format(Ticker))\n",
    "s, e = input_process.DateIndexMap(df, start_date), input_process.DateIndexMap(df, end_date)"
   ]
  },
  {
   "cell_type": "code",
   "execution_count": null,
   "metadata": {},
   "outputs": [],
   "source": [
    "def update_graph_corr_res(Ticker, start_date, end_date):\n",
    "\n",
    "    # read data\n",
    "    df = pd.read_csv(r\"./data/{}.csv\".format(Ticker))\n",
    "\n",
    "    # transform date to index\n",
    "    s, e = input_process.DateIndexMap(df, start_date), input_process.DateIndexMap(df, end_date)\n",
    "\n",
    "    # search and return res\n",
    "    search_res = return_res.get_sim_res(df, s, e, 'corr_d') # a:b\n",
    "    \n",
    "\n",
    "    # get res start and end\n",
    "    s_res, e_res = res_process.range_2_num(search_res)\n",
    "\n",
    "    return(\n",
    "        plotly_plot.plot(df, s = s_res, e= e_res)\n",
    "    )"
   ]
  }
 ],
 "metadata": {
  "kernelspec": {
   "display_name": "Python 3.7.9 ('dash')",
   "language": "python",
   "name": "python3"
  },
  "language_info": {
   "codemirror_mode": {
    "name": "ipython",
    "version": 3
   },
   "file_extension": ".py",
   "mimetype": "text/x-python",
   "name": "python",
   "nbconvert_exporter": "python",
   "pygments_lexer": "ipython3",
   "version": "3.7.9"
  },
  "orig_nbformat": 4,
  "vscode": {
   "interpreter": {
    "hash": "2329cec72ca6ba00522a1444f53ad2456567affff34312f33eeeaea47343b820"
   }
  }
 },
 "nbformat": 4,
 "nbformat_minor": 2
}
