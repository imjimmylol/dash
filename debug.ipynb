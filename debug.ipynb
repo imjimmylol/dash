{
 "cells": [
  {
   "cell_type": "markdown",
   "metadata": {},
   "source": [
    "# Read Data"
   ]
  },
  {
   "cell_type": "code",
   "execution_count": 1,
   "metadata": {},
   "outputs": [],
   "source": [
    "from re import template\n",
    "import pandas as pd\n",
    "from utils.algo.calculation import get_fbna\n",
    "from dash_bootstrap_templates import load_figure_template\n",
    "from plotly.subplots import make_subplots\n",
    "import plotly.graph_objects as go\n",
    "# import talib\n",
    "import pandas as pd\n",
    "\n",
    "templates = [\"solar\"]\n",
    "load_figure_template(templates)"
   ]
  },
  {
   "cell_type": "code",
   "execution_count": 2,
   "metadata": {},
   "outputs": [],
   "source": [
    "df = pd.read_csv(\"./data/2317TW.csv\")"
   ]
  },
  {
   "cell_type": "code",
   "execution_count": 3,
   "metadata": {},
   "outputs": [],
   "source": [
    "templates = [\"solar\"]\n",
    "load_figure_template(templates)"
   ]
  },
  {
   "cell_type": "code",
   "execution_count": 32,
   "metadata": {},
   "outputs": [
    {
     "data": {
      "application/vnd.jupyter.widget-view+json": {
       "model_id": "967f92e5fa384b70aa0dedc14118d80c",
       "version_major": 2,
       "version_minor": 0
      },
      "text/plain": [
       "FigureWidget({\n",
       "    'data': [{'close': array([ 61.5868454 ,  59.21202087,  57.94546127, ..., 110.        ,\n",
       "    …"
      ]
     },
     "metadata": {},
     "output_type": "display_data"
    }
   ],
   "source": [
    "fig = go.FigureWidget(go.Figure())\n",
    "fig.add_trace(go.Candlestick(x=df[\"Date\"],\n",
    "                            open=df['Open'],\n",
    "                            high=df['High'],\n",
    "                            low=df['Low'],\n",
    "                            close=df['Close'],\n",
    "                            name=\"Price\", \n",
    "                            ))\n",
    "fig.update_layout(\n",
    "    yaxis = dict(\n",
    "       autorange = True,\n",
    "       fixedrange= False\n",
    "   ), width=1000*0.7,height=700*0.8,template=\"solar\"\n",
    ")"
   ]
  },
  {
   "cell_type": "code",
   "execution_count": 35,
   "metadata": {},
   "outputs": [
    {
     "data": {
      "application/vnd.jupyter.widget-view+json": {
       "model_id": "967f92e5fa384b70aa0dedc14118d80c",
       "version_major": 2,
       "version_minor": 0
      },
      "text/plain": [
       "FigureWidget({\n",
       "    'data': [{'close': array([ 61.5868454 ,  59.21202087,  57.94546127, ..., 110.        ,\n",
       "    …"
      ]
     },
     "metadata": {},
     "output_type": "display_data"
    }
   ],
   "source": [
    "scatter = fig.data[0]\n",
    "def log_date(trace, points, selector):\n",
    "    global fuck\n",
    "    date = list(scatter.x)\n",
    "    for i in points.point_inds:\n",
    "        fuck.append(date[i])\n",
    "\n",
    "scatter.on_click(log_date)\n",
    "fig"
   ]
  },
  {
   "cell_type": "code",
   "execution_count": 75,
   "metadata": {},
   "outputs": [],
   "source": [
    "fuck = []"
   ]
  },
  {
   "cell_type": "code",
   "execution_count": 66,
   "metadata": {},
   "outputs": [
    {
     "data": {
      "text/plain": [
       "['2015-01-13', '2015-09-02', '2016-01-29', '2015-08-25']"
      ]
     },
     "execution_count": 66,
     "metadata": {},
     "output_type": "execute_result"
    }
   ],
   "source": [
    "fuck"
   ]
  },
  {
   "cell_type": "code",
   "execution_count": 59,
   "metadata": {},
   "outputs": [],
   "source": [
    "import time\n",
    "import threading"
   ]
  },
  {
   "cell_type": "code",
   "execution_count": 76,
   "metadata": {},
   "outputs": [],
   "source": [
    "def clear_timeli():\n",
    "    while True:\n",
    "        if len(fuck)>2:\n",
    "            fuck = []"
   ]
  },
  {
   "cell_type": "code",
   "execution_count": 77,
   "metadata": {},
   "outputs": [],
   "source": [
    "t = threading.Thread(target = clear_timeli)"
   ]
  },
  {
   "cell_type": "code",
   "execution_count": null,
   "metadata": {},
   "outputs": [
    {
     "name": "stderr",
     "output_type": "stream",
     "text": [
      "Exception in thread Thread-5 (clear_timeli):\n",
      "Traceback (most recent call last):\n",
      "  File \"c:\\Users\\zhing\\anaconda3\\envs\\tmp\\lib\\threading.py\", line 1009, in _bootstrap_inner\n",
      "    self.run()\n",
      "  File \"c:\\Users\\zhing\\anaconda3\\envs\\tmp\\lib\\threading.py\", line 946, in run\n",
      "    self._target(*self._args, **self._kwargs)\n",
      "  File \"C:\\Users\\zhing\\AppData\\Local\\Temp\\ipykernel_21268\\1503091534.py\", line 3, in clear_timeli\n"
     ]
    },
    {
     "name": "stderr",
     "output_type": "stream",
     "text": [
      "UnboundLocalError: local variable 'fuck' referenced before assignment\n"
     ]
    }
   ],
   "source": [
    "t.start()"
   ]
  },
  {
   "cell_type": "code",
   "execution_count": null,
   "metadata": {},
   "outputs": [],
   "source": []
  }
 ],
 "metadata": {
  "kernelspec": {
   "display_name": "Python 3.10.4 ('tmp')",
   "language": "python",
   "name": "python3"
  },
  "language_info": {
   "codemirror_mode": {
    "name": "ipython",
    "version": 3
   },
   "file_extension": ".py",
   "mimetype": "text/x-python",
   "name": "python",
   "nbconvert_exporter": "python",
   "pygments_lexer": "ipython3",
   "version": "3.10.4"
  },
  "orig_nbformat": 4,
  "vscode": {
   "interpreter": {
    "hash": "8f2aa18a49a3f4fcb3445a70a262b749df5ecfc1e681345f17eeb075c7b9fc19"
   }
  }
 },
 "nbformat": 4,
 "nbformat_minor": 2
}
